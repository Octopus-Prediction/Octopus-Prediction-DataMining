{
 "cells": [
  {
   "cell_type": "markdown",
   "metadata": {},
   "source": [
    "### Loading data (matches) from the backend api"
   ]
  },
  {
   "cell_type": "code",
   "execution_count": 282,
   "metadata": {},
   "outputs": [],
   "source": [
    "import requests\n",
    "import json\n",
    "\n",
    "leagueId=\"6250d82b81afe4381753aefa\"\n",
    "r = requests.get(f'http://localhost:3000/football/{leagueId}/all/matches')\n",
    "json_matches=json.loads(r.text)"
   ]
  },
  {
   "cell_type": "markdown",
   "metadata": {},
   "source": [
    "### Cleaning and filtering and preprocessing data"
   ]
  },
  {
   "cell_type": "code",
   "execution_count": 283,
   "metadata": {},
   "outputs": [],
   "source": [
    "from datetime import datetime\n",
    "\n",
    "json_data = []\n",
    "for json_match in json_matches:\n",
    "    clean_match = {}\n",
    "    if(json_match['finished'] == False):\n",
    "        continue\n",
    "    clean_match['homeTeam'] = json_match['homeTeam']['name']\n",
    "    clean_match['awayTeam'] = json_match['awayTeam']['name']\n",
    "    clean_match['date']=datetime.strptime(json_match['date'],'%Y-%m-%dT%H:%M:%S.%fZ').toordinal()\n",
    "    clean_match['homeTeamGoals'] = len(\n",
    "        list(filter(lambda goal: goal['homeTeam'] == True, json_match['goals'])))\n",
    "    clean_match['awayTeamGoals'] = len(\n",
    "        list(filter(lambda goal: goal['homeTeam'] == False, json_match['goals'])))\n",
    "    json_data.append(clean_match)\n",
    "\n"
   ]
  },
  {
   "cell_type": "markdown",
   "metadata": {},
   "source": [
    "### Create targets \n",
    "- result in ['home','draw','away']\n",
    "- over0.5 in [0,1]"
   ]
  },
  {
   "cell_type": "code",
   "execution_count": 284,
   "metadata": {},
   "outputs": [],
   "source": [
    "result_target=[]    # contain match result ('home','draw','away') \n",
    "over05_target=[]    # contain if goals sum is over 0.5\n",
    "over15_target=[]    # contain if goals sum is over 1.5\n",
    "over25_target=[]    # contain if goals sum is over 2.5\n",
    "over35_target=[]    # contain if goals sum is over 3.5\n",
    "# this targets support double prediction example 1x 12 x2\n",
    "home_target=[]      \n",
    "draw_target=[]\n",
    "away_target=[]\n",
    "\n",
    "for match in json_data:\n",
    "    if(match['homeTeamGoals'] > match['awayTeamGoals']):\n",
    "        result_target.append('home')\n",
    "        home_target.append(1)      \n",
    "        draw_target.append(0)\n",
    "        away_target.append(0)\n",
    "    elif(match['homeTeamGoals'] < match['awayTeamGoals']):\n",
    "        result_target.append('away')\n",
    "        home_target.append(0)\n",
    "        draw_target.append(0)\n",
    "        away_target.append(1)\n",
    "    else:\n",
    "        home_target.append(0)\n",
    "        draw_target.append(1)\n",
    "        away_target.append(0)\n",
    "        result_target.append('draw')\n",
    "        \n",
    "    goals_sum=match['homeTeamGoals'] + match['awayTeamGoals']\n",
    "    if(goals_sum>0.5):\n",
    "        over05_target.append(1)\n",
    "    else:\n",
    "        over05_target.append(0)\n",
    "        \n",
    "    if(goals_sum>1.5):\n",
    "        over15_target.append(1)\n",
    "    else:\n",
    "        over15_target.append(0)\n",
    "        \n",
    "    if(goals_sum>2.5):\n",
    "        over25_target.append(1)\n",
    "    else:\n",
    "        over25_target.append(0)\n",
    "        \n",
    "    if(goals_sum>3.5):\n",
    "        over35_target.append(1)\n",
    "    else:\n",
    "        over35_target.append(0)\n",
    "\n",
    "   \n",
    "targets={\n",
    "    'result':result_target,\n",
    "    'over 0.5':over05_target,\n",
    "    'over 1.5':over15_target,\n",
    "    'over 2.5':over25_target,\n",
    "    'over 3.5':over35_target,\n",
    "    'home':home_target,\n",
    "    'away':draw_target,\n",
    "    'draw':away_target,\n",
    "    \n",
    "}"
   ]
  },
  {
   "cell_type": "markdown",
   "metadata": {},
   "source": [
    "### Restructuring data to pandas Dataframe"
   ]
  },
  {
   "cell_type": "code",
   "execution_count": 285,
   "metadata": {},
   "outputs": [
    {
     "name": "stdout",
     "output_type": "stream",
     "text": [
      "             homeTeam     awayTeam    date\n",
      "0          costa-rica          usa  738245\n",
      "1             jamaica     honduras  738245\n",
      "2              mexico  el-salvador  738245\n",
      "3              panama       canada  738245\n",
      "4     solomon-islands  new-zealand  738244\n",
      "...               ...          ...     ...\n",
      "4394         colombia       brazil  731465\n",
      "4395          uruguay      bolivia  731465\n",
      "4396             peru     paraguay  731465\n",
      "4397          ecuador    venezuela  731464\n",
      "4398        argentina        chile  731464\n",
      "\n",
      "[4399 rows x 3 columns]\n"
     ]
    }
   ],
   "source": [
    "import pandas as pd\n",
    "\n",
    "data=[]\n",
    "home_team = []\n",
    "away_team = []\n",
    "date=[]\n",
    "for match in json_data:\n",
    "    home_team.append(match['homeTeam'])\n",
    "    away_team.append(match['awayTeam'])\n",
    "    date.append(match['date'])\n",
    "\n",
    "data = pd.DataFrame({\n",
    "    'homeTeam': home_team, \n",
    "    'awayTeam': away_team,\n",
    "    'date':date\n",
    "    \n",
    "})\n",
    "\n",
    "print(data)\n",
    "\n",
    "\n"
   ]
  },
  {
   "cell_type": "markdown",
   "metadata": {},
   "source": [
    "### Convert categorical variable into dummy/indicator variables."
   ]
  },
  {
   "cell_type": "code",
   "execution_count": 286,
   "metadata": {},
   "outputs": [],
   "source": [
    "\n",
    "data=pd.get_dummies(data)"
   ]
  },
  {
   "cell_type": "markdown",
   "metadata": {},
   "source": [
    "### Preprocessing :Normalize date column"
   ]
  },
  {
   "cell_type": "code",
   "execution_count": 287,
   "metadata": {},
   "outputs": [
    {
     "name": "stdout",
     "output_type": "stream",
     "text": [
      "          date  homeTeam_afghanistan  homeTeam_albania  homeTeam_algeria  \\\n",
      "0     1.000000                   0.0               0.0               0.0   \n",
      "1     1.000000                   0.0               0.0               0.0   \n",
      "2     1.000000                   0.0               0.0               0.0   \n",
      "3     1.000000                   0.0               0.0               0.0   \n",
      "4     0.999853                   0.0               0.0               0.0   \n",
      "...        ...                   ...               ...               ...   \n",
      "4394  0.000147                   0.0               0.0               0.0   \n",
      "4395  0.000147                   0.0               0.0               0.0   \n",
      "4396  0.000147                   0.0               0.0               0.0   \n",
      "4397  0.000000                   0.0               0.0               0.0   \n",
      "4398  0.000000                   0.0               0.0               0.0   \n",
      "\n",
      "      homeTeam_andorra  homeTeam_angola  homeTeam_anguilla  \\\n",
      "0                  0.0              0.0                0.0   \n",
      "1                  0.0              0.0                0.0   \n",
      "2                  0.0              0.0                0.0   \n",
      "3                  0.0              0.0                0.0   \n",
      "4                  0.0              0.0                0.0   \n",
      "...                ...              ...                ...   \n",
      "4394               0.0              0.0                0.0   \n",
      "4395               0.0              0.0                0.0   \n",
      "4396               0.0              0.0                0.0   \n",
      "4397               0.0              0.0                0.0   \n",
      "4398               0.0              0.0                0.0   \n",
      "\n",
      "      homeTeam_antigua-and-barbuda  homeTeam_argentina  homeTeam_armenia  ...  \\\n",
      "0                              0.0                 0.0               0.0  ...   \n",
      "1                              0.0                 0.0               0.0  ...   \n",
      "2                              0.0                 0.0               0.0  ...   \n",
      "3                              0.0                 0.0               0.0  ...   \n",
      "4                              0.0                 0.0               0.0  ...   \n",
      "...                            ...                 ...               ...  ...   \n",
      "4394                           0.0                 0.0               0.0  ...   \n",
      "4395                           0.0                 0.0               0.0  ...   \n",
      "4396                           0.0                 0.0               0.0  ...   \n",
      "4397                           0.0                 0.0               0.0  ...   \n",
      "4398                           0.0                 1.0               0.0  ...   \n",
      "\n",
      "      awayTeam_united-states-virgin-islands  awayTeam_uruguay  awayTeam_usa  \\\n",
      "0                                       0.0               0.0           1.0   \n",
      "1                                       0.0               0.0           0.0   \n",
      "2                                       0.0               0.0           0.0   \n",
      "3                                       0.0               0.0           0.0   \n",
      "4                                       0.0               0.0           0.0   \n",
      "...                                     ...               ...           ...   \n",
      "4394                                    0.0               0.0           0.0   \n",
      "4395                                    0.0               0.0           0.0   \n",
      "4396                                    0.0               0.0           0.0   \n",
      "4397                                    0.0               0.0           0.0   \n",
      "4398                                    0.0               0.0           0.0   \n",
      "\n",
      "      awayTeam_uzbekistan  awayTeam_venezuela  awayTeam_vietnam  \\\n",
      "0                     0.0                 0.0               0.0   \n",
      "1                     0.0                 0.0               0.0   \n",
      "2                     0.0                 0.0               0.0   \n",
      "3                     0.0                 0.0               0.0   \n",
      "4                     0.0                 0.0               0.0   \n",
      "...                   ...                 ...               ...   \n",
      "4394                  0.0                 0.0               0.0   \n",
      "4395                  0.0                 0.0               0.0   \n",
      "4396                  0.0                 0.0               0.0   \n",
      "4397                  0.0                 1.0               0.0   \n",
      "4398                  0.0                 0.0               0.0   \n",
      "\n",
      "      awayTeam_wales  awayTeam_yemen  awayTeam_zambia  awayTeam_zimbabwe  \n",
      "0                0.0             0.0              0.0                0.0  \n",
      "1                0.0             0.0              0.0                0.0  \n",
      "2                0.0             0.0              0.0                0.0  \n",
      "3                0.0             0.0              0.0                0.0  \n",
      "4                0.0             0.0              0.0                0.0  \n",
      "...              ...             ...              ...                ...  \n",
      "4394             0.0             0.0              0.0                0.0  \n",
      "4395             0.0             0.0              0.0                0.0  \n",
      "4396             0.0             0.0              0.0                0.0  \n",
      "4397             0.0             0.0              0.0                0.0  \n",
      "4398             0.0             0.0              0.0                0.0  \n",
      "\n",
      "[4399 rows x 416 columns]\n"
     ]
    }
   ],
   "source": [
    "from sklearn.preprocessing import MinMaxScaler\n",
    "\n",
    "\n",
    "scaler = MinMaxScaler()\n",
    "scaler.fit(data)\n",
    "scaled = scaler.transform(data)\n",
    "data = pd.DataFrame(scaled, columns=data.columns)\n",
    "\n",
    "print(data)"
   ]
  },
  {
   "cell_type": "markdown",
   "metadata": {},
   "source": [
    "### Naive bayes classifier average score"
   ]
  },
  {
   "cell_type": "code",
   "execution_count": 288,
   "metadata": {},
   "outputs": [
    {
     "name": "stdout",
     "output_type": "stream",
     "text": [
      "score for result : 0.55\n",
      "score for over 0.5 : 0.64\n",
      "score for over 1.5 : 0.59\n",
      "score for over 2.5 : 0.69\n",
      "score for over 3.5 : 0.81\n",
      "score for home : 0.71\n",
      "score for away : 0.6\n",
      "score for draw : 0.81\n"
     ]
    }
   ],
   "source": [
    "from sklearn import naive_bayes\n",
    "from sklearn.model_selection import train_test_split\n",
    "\n",
    "def average_score(classifier, data, target):\n",
    "    sum = 0\n",
    "    cycles = 300\n",
    "\n",
    "    for i in range(1, cycles):\n",
    "\n",
    "        train_data, test_data, train_target, test_target = train_test_split(\n",
    "            data, target, test_size=0.2)\n",
    "        classifier.fit(train_data, train_target)\n",
    "        sum += classifier.score(test_data, test_target)\n",
    "        \n",
    "    return sum/cycles\n",
    "\n",
    "\n",
    "\n",
    "nb_clf = naive_bayes.MultinomialNB(fit_prior=True)\n",
    "naive_bayes_scores=[]\n",
    "\n",
    "for target_label in targets:\n",
    "    score=round(average_score(nb_clf,data,targets[target_label]),2)\n",
    "    naive_bayes_scores.append(score)\n",
    "    print(f'score for {target_label} : {score}')\n"
   ]
  },
  {
   "cell_type": "markdown",
   "metadata": {},
   "source": [
    "### Random forest classifier score"
   ]
  },
  {
   "cell_type": "code",
   "execution_count": 349,
   "metadata": {},
   "outputs": [
    {
     "name": "stdout",
     "output_type": "stream",
     "text": [
      "score for result : 0.7\n",
      "score for over 0.5 : 0.94\n",
      "score for over 1.5 : 0.8\n",
      "score for over 2.5 : 0.73\n",
      "score for over 3.5 : 0.82\n",
      "score for home : 0.77\n",
      "score for away : 0.8\n",
      "score for draw : 0.84\n"
     ]
    }
   ],
   "source": [
    "from sklearn.ensemble import RandomForestClassifier\n",
    "\n",
    "\n",
    "random_forest_classifiers=[]\n",
    "random_forest_scores=[]\n",
    "\n",
    "for target_label in targets:\n",
    "    \n",
    "    rf_clf=RandomForestClassifier(n_estimators=100)\n",
    "    train_data, test_data, train_target, test_target = train_test_split(\n",
    "        data, targets[target_label], test_size=0.3,shuffle=True)\n",
    "    rf_clf.fit(train_data, train_target)\n",
    "    score=round(rf_clf.score(test_data,test_target),2)\n",
    "    random_forest_scores.append(score)\n",
    "    random_forest_classifiers.append(rf_clf)\n",
    "    print(f'score for {target_label} : {score}')\n",
    "    \n"
   ]
  },
  {
   "cell_type": "markdown",
   "metadata": {},
   "source": [
    "### Decision tree classifier score"
   ]
  },
  {
   "cell_type": "code",
   "execution_count": 345,
   "metadata": {},
   "outputs": [
    {
     "name": "stdout",
     "output_type": "stream",
     "text": [
      "score for result : 0.68\n",
      "score for over 0.5 : 0.9\n",
      "score for over 1.5 : 0.76\n",
      "score for over 2.5 : 0.71\n",
      "score for over 3.5 : 0.73\n",
      "score for home : 0.75\n",
      "score for away : 0.76\n",
      "score for draw : 0.78\n"
     ]
    }
   ],
   "source": [
    "from sklearn.tree import DecisionTreeClassifier\n",
    "\n",
    "\n",
    "decision_tree_classifiers=[]\n",
    "decision_tree_scores=[]\n",
    "\n",
    "for target_label in targets:\n",
    "    \n",
    "    dt_clf= DecisionTreeClassifier()\n",
    "    train_data, test_data, train_target, test_target = train_test_split(\n",
    "        data, targets[target_label], test_size=0.3,shuffle=True)\n",
    "    dt_clf.fit(train_data, train_target)\n",
    "    score=round(dt_clf.score(test_data,test_target),2)\n",
    "    decision_tree_scores.append(score)\n",
    "    decision_tree_classifiers.append(dt_clf)\n",
    "    print(f'score for {target_label} : {score}')\n",
    "\n"
   ]
  },
  {
   "cell_type": "markdown",
   "metadata": {},
   "source": [
    "### SVC classifier score"
   ]
  },
  {
   "cell_type": "code",
   "execution_count": 346,
   "metadata": {},
   "outputs": [
    {
     "name": "stdout",
     "output_type": "stream",
     "text": [
      "score for result : 0.69\n",
      "score for over 0.5 : 0.9\n",
      "score for over 1.5 : 0.77\n",
      "score for over 2.5 : 0.7\n",
      "score for over 3.5 : 0.82\n",
      "score for home : 0.78\n",
      "score for away : 0.82\n",
      "score for draw : 0.84\n"
     ]
    }
   ],
   "source": [
    "from sklearn.svm import SVC\n",
    "\n",
    "svc_classifiers=[]\n",
    "svc_scores=[]\n",
    "\n",
    "\n",
    "for target_label in targets:\n",
    "    \n",
    "    svc_clf=SVC()\n",
    "    train_data, test_data, train_target, test_target = train_test_split(\n",
    "        data, targets[target_label], test_size=0.3,shuffle=True)\n",
    "    svc_clf.fit(train_data, train_target)\n",
    "    score=round(svc_clf.score(test_data,test_target),2)\n",
    "    svc_scores.append(score)\n",
    "    svc_classifiers.append(svc_clf)\n",
    "    print(f'score for {target_label} : {score}')"
   ]
  },
  {
   "cell_type": "markdown",
   "metadata": {},
   "source": [
    "### LogisticRegression classifier score"
   ]
  },
  {
   "cell_type": "code",
   "execution_count": 347,
   "metadata": {},
   "outputs": [
    {
     "name": "stdout",
     "output_type": "stream",
     "text": [
      "score for result : 0.67\n",
      "score for over 0.5 : 0.88\n",
      "score for over 1.5 : 0.74\n",
      "score for over 2.5 : 0.69\n",
      "score for over 3.5 : 0.82\n",
      "score for home : 0.78\n",
      "score for away : 0.78\n",
      "score for draw : 0.83\n"
     ]
    }
   ],
   "source": [
    "from sklearn.linear_model import LogisticRegression\n",
    "\n",
    "\n",
    "logistic_regression_classifiers=[]\n",
    "logistic_regression_scores=[]\n",
    "\n",
    "for target_label in targets:\n",
    "    \n",
    "    lr_clf=LogisticRegression()    \n",
    "    train_data, test_data, train_target, test_target = train_test_split(\n",
    "        data, targets[target_label], test_size=0.3,shuffle=True)\n",
    "    lr_clf.fit(train_data, train_target)\n",
    "    score=round(lr_clf.score(test_data,test_target),2)\n",
    "    logistic_regression_classifiers.append(lr_clf)\n",
    "    logistic_regression_scores.append(score)\n",
    "    print(f'score for {target_label} : {score}')\n"
   ]
  },
  {
   "cell_type": "code",
   "execution_count": 350,
   "metadata": {},
   "outputs": [
    {
     "data": {
      "text/plain": [
       "<matplotlib.legend.Legend at 0x7fdc6dee68f0>"
      ]
     },
     "execution_count": 350,
     "metadata": {},
     "output_type": "execute_result"
    },
    {
     "data": {
      "image/png": "[encoded data removed]",
      "text/plain": [
       "<Figure size 1080x576 with 1 Axes>"
      ]
     },
     "metadata": {
      "needs_background": "light"
     },
     "output_type": "display_data"
    }
   ],
   "source": [
    "import matplotlib.pyplot as plt\n",
    "\n",
    "plt.rcParams['figure.figsize'] = [15, 8]\n",
    "\n",
    "plt.plot(targets.keys(), logistic_regression_scores, label = \"logistic_regression\")\n",
    "plt.plot(targets.keys(), svc_scores, label = \"svc\")\n",
    "plt.plot(targets.keys(), decision_tree_scores, label = \"decision_tree\")\n",
    "plt.plot(targets.keys(), random_forest_scores, label = \"random_forest\")\n",
    "plt.plot(targets.keys(), naive_bayes_scores, label = \"naive_bayes\")\n",
    "plt.legend()"
   ]
  },
  {
   "cell_type": "code",
   "execution_count": 344,
   "metadata": {},
   "outputs": [],
   "source": [
    "import numpy as np\n",
    "\n",
    "classifiers=pd.DataFrame(\n",
    "                np.array([\n",
    "                    random_forest_classifiers,\n",
    "                    decision_tree_classifiers,\n",
    "                    svc_classifiers,\n",
    "                    logistic_regression_classifiers\n",
    "                    ],\n",
    "                dtype=object),\n",
    "                columns=targets.keys()\n",
    "                )\n",
    "\n",
    "\n"
   ]
  }
 ],
 "metadata": {
  "interpreter": {
   "hash": "aee8b7b246df8f9039afb4144a1f6fd8d2ca17a180786b69acc140d282b71a49"
  },
  "kernelspec": {
   "display_name": "Python 3.10.4 64-bit",
   "language": "python",
   "name": "python3"
  },
  "language_info": {
   "codemirror_mode": {
    "name": "ipython",
    "version": 3
   },
   "file_extension": ".py",
   "mimetype": "text/x-python",
   "name": "python",
   "nbconvert_exporter": "python",
   "pygments_lexer": "ipython3",
   "version": "3.10.4"
  },
  "orig_nbformat": 4
 },
 "nbformat": 4,
 "nbformat_minor": 2
}
